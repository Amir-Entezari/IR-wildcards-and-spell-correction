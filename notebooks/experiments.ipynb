{
 "cells": [
  {
   "cell_type": "code",
   "execution_count": 1,
   "metadata": {
    "collapsed": true,
    "ExecuteTime": {
     "start_time": "2023-11-11T16:05:06.156058Z",
     "end_time": "2023-11-11T16:05:06.616294Z"
    }
   },
   "outputs": [],
   "source": [
    "from src.preprocessing import preprocess_documents\n",
    "from src.indexing import InvertedIndex\n",
    "from src.querying import QueryProcessor\n",
    "\n"
   ]
  },
  {
   "cell_type": "code",
   "execution_count": 2,
   "outputs": [],
   "source": [
    "# Sample documents:\n",
    "documents = [\n",
    "    'This is a simple example document. It contains several words. The words should be processed and indexed.',\n",
    "    'Another example document with different content. Document indexing is important for retrieval.',\n",
    "    'Another example document to test Boolean search capabilities. This document contains relevant content.',\n",
    "    'Automat Automata Automation Automatic nobody nood need nid nobody nearby nekoray neyshabour nooobbbbboooy']\n",
    "\n",
    "# Preprocess documents\n",
    "preprocessed_documents = preprocess_documents(documents)\n",
    "\n",
    "# Initialize the Information Retrieval System with the preprocessed documents\n",
    "inverted_index = InvertedIndex(preprocessed_documents)\n"
   ],
   "metadata": {
    "collapsed": false,
    "ExecuteTime": {
     "start_time": "2023-11-11T16:05:06.618538Z",
     "end_time": "2023-11-11T16:05:06.625683Z"
    }
   }
  },
  {
   "cell_type": "code",
   "execution_count": 3,
   "outputs": [
    {
     "data": {
      "text/plain": "[another,\n automat,\n automata,\n automatic,\n automation,\n boolean,\n capabilities,\n contains,\n content,\n different,\n document,\n example,\n important,\n indexed,\n indexing,\n nearby,\n need,\n nekoray,\n neyshabour,\n nid,\n nobody,\n nood,\n nooobbbbboooy,\n processed,\n relevant,\n retrieval,\n search,\n several,\n simple,\n test,\n words]"
     },
     "execution_count": 3,
     "metadata": {},
     "output_type": "execute_result"
    }
   ],
   "source": [
    "# Create posting lists\n",
    "inverted_index.create_posting_list()\n",
    "\n",
    "# Let's see the posting list\n",
    "inverted_index.posting_list\n"
   ],
   "metadata": {
    "collapsed": false,
    "ExecuteTime": {
     "start_time": "2023-11-11T16:05:06.629186Z",
     "end_time": "2023-11-11T16:05:06.631057Z"
    }
   }
  },
  {
   "cell_type": "code",
   "execution_count": 4,
   "outputs": [
    {
     "name": "stdout",
     "output_type": "stream",
     "text": [
      "{1, 2}\n",
      "{3}\n",
      "{0, 1, 2}\n",
      "{3}\n",
      "{0, 1, 2}\n",
      "{1, 2}\n",
      "{3}\n",
      "{3}\n"
     ]
    }
   ],
   "source": [
    "ir_system = QueryProcessor(inverted_index)\n",
    "ir_system.create_prefix_trie()\n",
    "# Execute a standard Boolean query\n",
    "print(ir_system.search('example and content'))\n",
    "\n",
    "# Execute a proximity query\n",
    "print(ir_system.search('not example'))\n",
    "\n",
    "# Execute an OR query\n",
    "print(ir_system.search('example or content'))\n",
    "\n",
    "# Execute a NOT query\n",
    "print(ir_system.search('not example'))\n",
    "\n",
    "# Execute wildcard queries and spell correction\n",
    "print(ir_system.search('not t*'))\n",
    "print(ir_system.search('exa*le and contrnt'))\n",
    "print(ir_system.search('n*d and Automation'))\n",
    "print(ir_system.search('n*b*y and Automation'))"
   ],
   "metadata": {
    "collapsed": false,
    "ExecuteTime": {
     "start_time": "2023-11-11T16:05:06.637089Z",
     "end_time": "2023-11-11T16:05:06.659389Z"
    }
   }
  },
  {
   "cell_type": "code",
   "execution_count": 4,
   "outputs": [],
   "source": [],
   "metadata": {
    "collapsed": false,
    "ExecuteTime": {
     "start_time": "2023-11-11T16:05:06.640848Z",
     "end_time": "2023-11-11T16:05:06.695403Z"
    }
   }
  }
 ],
 "metadata": {
  "kernelspec": {
   "display_name": "Python 3",
   "language": "python",
   "name": "python3"
  },
  "language_info": {
   "codemirror_mode": {
    "name": "ipython",
    "version": 2
   },
   "file_extension": ".py",
   "mimetype": "text/x-python",
   "name": "python",
   "nbconvert_exporter": "python",
   "pygments_lexer": "ipython2",
   "version": "2.7.6"
  }
 },
 "nbformat": 4,
 "nbformat_minor": 0
}
